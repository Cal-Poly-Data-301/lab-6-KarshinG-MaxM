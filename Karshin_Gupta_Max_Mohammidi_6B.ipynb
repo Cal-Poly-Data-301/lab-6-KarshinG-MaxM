{
  "nbformat": 4,
  "nbformat_minor": 0,
  "metadata": {
    "colab": {
      "provenance": []
    },
    "kernelspec": {
      "name": "python3",
      "display_name": "Python 3"
    }
  },
  "cells": [
    {
      "cell_type": "markdown",
      "metadata": {
        "id": "Wv2CguEzescV"
      },
      "source": [
        "# Bing Maps API\n",
        "\n",
        "In this part of the lab, you will join the CityBikes data from the previous part of the lab with additional data that you will query from the Bing Maps API.\n",
        "\n",
        "First, you will need to register for a Bing Maps Key. Follow the instructions [here](https://docs.microsoft.com/en-us/bingmaps/getting-started/bing-maps-dev-center-help/getting-a-bing-maps-key). You should be able to sign in with your Cal Poly account. When you get to Step 4, select:\n",
        "\n",
        "- Key type: Basic\n",
        "- Application type: Dev/Test\n",
        "\n",
        "You will be able to make 125000 free requests with the resulting API key. This should be more than enough to complete this assignment.\n",
        "\n",
        "We will be working with the [REST services in the Bing Maps API](https://docs.microsoft.com/en-us/bingmaps/rest-services/). Click on the link for a complete documentation of the features."
      ]
    },
    {
      "cell_type": "markdown",
      "metadata": {
        "id": "vhodHHWtu8Xb"
      },
      "source": [
        "## Question 1\n",
        "\n",
        "Read in the `DataFrame` of bike stations in the United States from Part A of this lab. Restrict to the stations in the \"Bay Wheels\" network (with network ID \"bay-wheels\").\n",
        "\n",
        "How many of these stations are in the city/county of San Francisco? \n",
        "\n",
        "(_Hint:_ Use the [Locations API](https://docs.microsoft.com/en-us/bingmaps/rest-services/locations/) to get the address associated with each latitude and longitude coordinate.)"
      ]
    },
    {
      "cell_type": "code",
      "source": [
        "import pandas as pd\n",
        "\n",
        "stations_df = pd.read_csv(\"bike_stations.csv\")\n",
        "bay_wheels = stations_df[stations_df[\"network\"] == \"bay-wheels\"]\n",
        "sf_count = bay_wheels[\"city\"].value_counts()[0]\n",
        "print(f\"SF count of bikes {sf_count}\")"
      ],
      "metadata": {
        "colab": {
          "base_uri": "https://localhost:8080/"
        },
        "id": "tLqL7vl9lwnh",
        "outputId": "519628ba-756e-4a43-810c-e2fb1773d8ca"
      },
      "execution_count": 5,
      "outputs": [
        {
          "output_type": "stream",
          "name": "stdout",
          "text": [
            "SF count of bikes 508\n"
          ]
        }
      ]
    },
    {
      "cell_type": "markdown",
      "metadata": {
        "id": "c3N28ddcIpHt"
      },
      "source": [
        "## Question 2\n",
        "\n",
        "You want to go to Coit Tower. To save money, you decide to ride a \"Bay Wheels\" bike to the closest station and hail a cab from there to Coit Tower. What station should you bike to so that you are as close to Coit Tower as possible (as measured by driving distance)? Does your answer agree with the one that you obtained in Part A of this lab? If not, why does it differ?\n",
        "\n",
        "_Hints:_ \n",
        "- You should restrict your attention to bike stations that are in San Francisco, which you determined in Question 1. \n",
        "- Use the [Routes API](https://docs.microsoft.com/en-us/bingmaps/rest-services/routes/calculate-a-distance-matrix) to calculate a distance matrix between Coit Tower and the bike stations. \n",
        "- You can do this with just one call to the API. Because there are too many stations, it is impossible to specify all the locations in the URL. Instead, you should make a POST request (`requests.post`), passing in the parameters as a JSON object through the `json=` parameter of `requests.post`. Read the API documentation carefully to learn how to use the POST API."
      ]
    },
    {
      "cell_type": "code",
      "source": [
        "import requests\n",
        "\n",
        "request = {\n",
        "    \"origins\": [],\n",
        "    \"destinations\": [{\n",
        "    \"latitude\": 37.8024,\n",
        "    \"longitude\": -122.4058\n",
        "    }],\n",
        "    \"travelMode\": \"Driving\"\n",
        "}\n",
        "for location in bay_wheels.iterrows():\n",
        "    request[\"origins\"].append({\n",
        "        \"latitude\": location[1][\"latitude\"],\n",
        "        \"longitude\": location[1][\"longitude\"]\n",
        "        })\n",
        "\n",
        "response = requests.post(\"https://dev.virtualearth.net/REST/v1/Routes/DistanceMatrix?key=AoS8mFZV01fqp6GEjzmlg-Dy0M_OTu2EZcZXQJgHYL-mPDgJnWPO9CVVBqVTa8wK\", json=request)"
      ],
      "metadata": {
        "id": "fAV4G2QzlxOo"
      },
      "execution_count": 6,
      "outputs": []
    },
    {
      "cell_type": "code",
      "source": [
        "response_df = pd.json_normalize(response.json()[\"resourceSets\"][0][\"resources\"][0][\"results\"])\n",
        "min_distance = response_df[\"travelDistance\"].idxmin()\n",
        "print(bay_wheels.iloc[min_distance][\"name\"])"
      ],
      "metadata": {
        "colab": {
          "base_uri": "https://localhost:8080/"
        },
        "id": "ZP5ovRwhmM3A",
        "outputId": "04943b65-e28c-4061-9dbe-291bef0e735a"
      },
      "execution_count": 7,
      "outputs": [
        {
          "output_type": "stream",
          "name": "stdout",
          "text": [
            "Lombard St at Columbus Ave\n"
          ]
        }
      ]
    },
    {
      "cell_type": "markdown",
      "metadata": {
        "id": "akBCRrv8VeRT"
      },
      "source": [
        "## Submission Instructions\n",
        "\n",
        "- Copy this notebook to your own Drive, if you have not already.\n",
        "- Restart this notebook and run the cells from beginning to end. \n",
        "  - Go to Runtime > Restart and Run All.\n",
        "- Rename this notebook by clicking on \"DATA 301 Lab 6B - YOUR NAMES HERE\" at the very top of this page. Replace \"YOUR NAMES HERE\" with the first and last names of you (and your partners, for Phase 2).\n",
        "- Get the link to your notebook:\n",
        "  - Click on \"Share\" at the top-right. \n",
        "  - Change the settings to \"Anyone with the link can view\". \n",
        "  - Copy the sharing link into Canvas."
      ]
    }
  ]
}