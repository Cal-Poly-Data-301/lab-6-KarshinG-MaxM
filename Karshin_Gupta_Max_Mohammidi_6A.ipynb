{
  "nbformat": 4,
  "nbformat_minor": 0,
  "metadata": {
    "kernelspec": {
      "display_name": "Python 3",
      "language": "python",
      "name": "python3"
    },
    "language_info": {
      "codemirror_mode": {
        "name": "ipython",
        "version": 3
      },
      "file_extension": ".py",
      "mimetype": "text/x-python",
      "name": "python",
      "nbconvert_exporter": "python",
      "pygments_lexer": "ipython3",
      "version": "3.6.8"
    },
    "colab": {
      "provenance": []
    }
  },
  "cells": [
    {
      "cell_type": "markdown",
      "metadata": {
        "id": "GJlfgcMDeZ4q"
      },
      "source": [
        "# CityBikes Rest API\n",
        "\n",
        "This section asks you to fetch JSON data from the [CityBikes REST API](https://api.citybik.es/v2/) to answer some questions about bike share programs.\n",
        "\n",
        "Please be mindful not to send requests to the server more often than necessary. In particular, make sure you separate code that requests data from the server into a separate cell so that you do not have to repeatedly request data from the server. You will lose points if your requests are not separated into their own cell."
      ]
    },
    {
      "cell_type": "markdown",
      "metadata": {
        "id": "BRgPl6o9eZ4u"
      },
      "source": [
        "# Question 1\n",
        "\n",
        "Find all cities with bike share programs in the United States (country code \"US\"), along with their network ID (for example, \"bay-wheels\"). How many cities in the U.S. have bike share programs (at least that are in this API)?"
      ]
    },
    {
      "cell_type": "code",
      "source": [
        "import pandas as pd\n",
        "from pandas.io.json import json_normalize\n",
        "import requests\n",
        "import json\n",
        "\n",
        "response = requests.get(\"http://api.citybik.es/v2/networks?\")\n"
      ],
      "metadata": {
        "id": "mA1auLGuVU78"
      },
      "execution_count": 1,
      "outputs": []
    },
    {
      "cell_type": "code",
      "source": [
        "data_networks = response.json()"
      ],
      "metadata": {
        "id": "x7S_0T9VZ9xb"
      },
      "execution_count": 2,
      "outputs": []
    },
    {
      "cell_type": "code",
      "source": [
        "UScities = []\n",
        "USids = []"
      ],
      "metadata": {
        "id": "294hyeNagX72"
      },
      "execution_count": 3,
      "outputs": []
    },
    {
      "cell_type": "code",
      "source": [
        "for company in data_networks['networks']:\n",
        "  if (company['location']['country']) == 'US':\n",
        "    UScities.append(company['location']['city'])\n",
        "    USids.append(company['id'])"
      ],
      "metadata": {
        "id": "4v2w8d2NiaDR"
      },
      "execution_count": 4,
      "outputs": []
    },
    {
      "cell_type": "code",
      "source": [
        "UScities"
      ],
      "metadata": {
        "colab": {
          "base_uri": "https://localhost:8080/"
        },
        "id": "dD7hFS3Gjx4P",
        "outputId": "50a3c09d-3b57-41a8-dc77-296532d3baed"
      },
      "execution_count": 5,
      "outputs": [
        {
          "output_type": "execute_result",
          "data": {
            "text/plain": [
              "['Aspen, CO',\n",
              " 'Ann Arbor, MI',\n",
              " 'Austin, TX',\n",
              " 'Chattanooga, TN',\n",
              " 'Portland, OR',\n",
              " 'San Ramon, CA',\n",
              " 'Boise, ID',\n",
              " 'Boulder, CO',\n",
              " 'Santa Monica, CA',\n",
              " 'Fort Lauderdale, FL',\n",
              " 'Milwaukee, WI',\n",
              " 'Buffalo, NY',\n",
              " 'Washington, DC',\n",
              " 'Charlotte, NC',\n",
              " 'Cincinnati, OH',\n",
              " 'New York, NY',\n",
              " 'Tampa, FL',\n",
              " 'Columbus, OH',\n",
              " 'Denver, CO',\n",
              " 'Chicago, IL',\n",
              " 'El Paso, TX',\n",
              " 'Fort Worth, TX',\n",
              " 'Fargo, ND',\n",
              " 'Salt Lake City',\n",
              " 'Phoenix, AZ',\n",
              " 'Omaha, NE',\n",
              " 'Houston, TX',\n",
              " 'Boston, MA',\n",
              " 'Philadelphia, PA',\n",
              " 'Indianapolis, IN',\n",
              " 'Orlando, FL',\n",
              " 'Kansas City, MO',\n",
              " 'Dayton, OH',\n",
              " 'Madison, WI',\n",
              " 'Los Angeles, CA',\n",
              " 'Ketchum / Sun Valley, ID',\n",
              " 'Minneapolis, MN',\n",
              " 'San Antonio, TX',\n",
              " 'University of South Florida, FL',\n",
              " 'Long Beach, NY',\n",
              " 'Spartanburg, SC',\n",
              " 'Topeka, KS',\n",
              " 'University of Virginia, VA',\n",
              " 'Atlanta, GA',\n",
              " 'Miami Beach, FL',\n",
              " 'San Diego, CA',\n",
              " 'Des Moines, IA',\n",
              " 'Greenville, SC',\n",
              " 'Pittsburgh',\n",
              " 'San Francisco Bay Area, CA',\n",
              " 'Las Vegas, NV',\n",
              " 'Oklahoma, OK']"
            ]
          },
          "metadata": {},
          "execution_count": 5
        }
      ]
    },
    {
      "cell_type": "code",
      "source": [
        "USids"
      ],
      "metadata": {
        "colab": {
          "base_uri": "https://localhost:8080/"
        },
        "id": "CcxQx1GekKcg",
        "outputId": "5bec4b39-be02-4916-8215-3b3d21d96495"
      },
      "execution_count": 6,
      "outputs": [
        {
          "output_type": "execute_result",
          "data": {
            "text/plain": [
              "['we-cycle',\n",
              " 'arborbike',\n",
              " 'austin',\n",
              " 'bike-chattanooga',\n",
              " 'biketown',\n",
              " 'britebikes',\n",
              " 'boise-greenbike',\n",
              " 'boulder',\n",
              " 'breeze-bike-share',\n",
              " 'broward',\n",
              " 'bublr-bikes',\n",
              " 'reddy-bike-share',\n",
              " 'capital-bikeshare',\n",
              " 'charlotte',\n",
              " 'cincy-red-bike',\n",
              " 'citi-bike-nyc',\n",
              " 'coast-bike-share',\n",
              " 'cogo',\n",
              " 'denver',\n",
              " 'divvy',\n",
              " 'elpaso',\n",
              " 'fortworth',\n",
              " 'greatrides',\n",
              " 'greenbikeslc',\n",
              " 'grid-bike-share',\n",
              " 'omaha',\n",
              " 'houston',\n",
              " 'blue-bikes',\n",
              " 'indego',\n",
              " 'indiana-pacers-bikeshare',\n",
              " 'juice-bike-share',\n",
              " 'kansascity',\n",
              " 'linkdayton',\n",
              " 'madison',\n",
              " 'metro-bike-share',\n",
              " 'mountain-rides-bike-share',\n",
              " 'nice-ride',\n",
              " 'sanantonio',\n",
              " 'share-a-bull-bikes',\n",
              " 'sobi-long-beach',\n",
              " 'spartanburg',\n",
              " 'topeka-metro-bikes',\n",
              " 'ubike',\n",
              " 'relay-atlanta',\n",
              " 'decobike-miami-beach',\n",
              " 'decobike-san-diego',\n",
              " 'desmoines',\n",
              " 'greenville',\n",
              " 'healthy-ride-pittsburgh-pittsburgh',\n",
              " 'bay-wheels',\n",
              " 'rtc-bike-share',\n",
              " 'spokies']"
            ]
          },
          "metadata": {},
          "execution_count": 6
        }
      ]
    },
    {
      "cell_type": "code",
      "source": [
        "print(len(UScities))"
      ],
      "metadata": {
        "colab": {
          "base_uri": "https://localhost:8080/"
        },
        "id": "x60B1j-WkM-E",
        "outputId": "d5a33b55-9d4e-4769-872a-962b2d99d507"
      },
      "execution_count": 7,
      "outputs": [
        {
          "output_type": "stream",
          "name": "stdout",
          "text": [
            "52\n"
          ]
        }
      ]
    },
    {
      "cell_type": "markdown",
      "source": [
        "There are 52 US cities with bike share programs. "
      ],
      "metadata": {
        "id": "ez-dS8xCkPuE"
      }
    },
    {
      "cell_type": "code",
      "source": [
        "import pandas as pd\n",
        "from pandas.io.json import json_normalize\n",
        "import requests\n",
        "import json\n",
        "\n",
        "\n",
        "response = requests.get(\"http://api.citybik.es/v2/networks\")\n",
        "\n",
        "# Extract the networks with country code \"US\"\n",
        "us_networks = [network for network in response.json()[\"networks\"] if network[\"location\"][\"country\"] == \"US\"]\n",
        "us_network_pairs = []\n",
        "\n",
        "# Print the network ID and city name for each US network\n",
        "for network in us_networks:\n",
        "    network_id = network[\"id\"]\n",
        "    network_location = network[\"location\"][\"city\"]\n",
        "    us_network_pairs.append((network_id, network_location))\n",
        "    print(f\"ID: {network_id:40} Location: {network_location:40}\")\n",
        "\n",
        "# Print the total number of cities with bike share programs in the US\n",
        "print(f\"\\nTotal cities in the US with bike share programs: {len(us_network_pairs)}\")  "
      ],
      "metadata": {
        "colab": {
          "base_uri": "https://localhost:8080/"
        },
        "id": "-YooH_Xjk5Is",
        "outputId": "42a21f1c-a14e-4831-e937-8d3bb797a566"
      },
      "execution_count": 8,
      "outputs": [
        {
          "output_type": "stream",
          "name": "stdout",
          "text": [
            "ID: we-cycle                                 Location: Aspen, CO                               \n",
            "ID: arborbike                                Location: Ann Arbor, MI                           \n",
            "ID: austin                                   Location: Austin, TX                              \n",
            "ID: bike-chattanooga                         Location: Chattanooga, TN                         \n",
            "ID: biketown                                 Location: Portland, OR                            \n",
            "ID: britebikes                               Location: San Ramon, CA                           \n",
            "ID: boise-greenbike                          Location: Boise, ID                               \n",
            "ID: boulder                                  Location: Boulder, CO                             \n",
            "ID: breeze-bike-share                        Location: Santa Monica, CA                        \n",
            "ID: broward                                  Location: Fort Lauderdale, FL                     \n",
            "ID: bublr-bikes                              Location: Milwaukee, WI                           \n",
            "ID: reddy-bike-share                         Location: Buffalo, NY                             \n",
            "ID: capital-bikeshare                        Location: Washington, DC                          \n",
            "ID: charlotte                                Location: Charlotte, NC                           \n",
            "ID: cincy-red-bike                           Location: Cincinnati, OH                          \n",
            "ID: citi-bike-nyc                            Location: New York, NY                            \n",
            "ID: coast-bike-share                         Location: Tampa, FL                               \n",
            "ID: cogo                                     Location: Columbus, OH                            \n",
            "ID: denver                                   Location: Denver, CO                              \n",
            "ID: divvy                                    Location: Chicago, IL                             \n",
            "ID: elpaso                                   Location: El Paso, TX                             \n",
            "ID: fortworth                                Location: Fort Worth, TX                          \n",
            "ID: greatrides                               Location: Fargo, ND                               \n",
            "ID: greenbikeslc                             Location: Salt Lake City                          \n",
            "ID: grid-bike-share                          Location: Phoenix, AZ                             \n",
            "ID: omaha                                    Location: Omaha, NE                               \n",
            "ID: houston                                  Location: Houston, TX                             \n",
            "ID: blue-bikes                               Location: Boston, MA                              \n",
            "ID: indego                                   Location: Philadelphia, PA                        \n",
            "ID: indiana-pacers-bikeshare                 Location: Indianapolis, IN                        \n",
            "ID: juice-bike-share                         Location: Orlando, FL                             \n",
            "ID: kansascity                               Location: Kansas City, MO                         \n",
            "ID: linkdayton                               Location: Dayton, OH                              \n",
            "ID: madison                                  Location: Madison, WI                             \n",
            "ID: metro-bike-share                         Location: Los Angeles, CA                         \n",
            "ID: mountain-rides-bike-share                Location: Ketchum / Sun Valley, ID                \n",
            "ID: nice-ride                                Location: Minneapolis, MN                         \n",
            "ID: sanantonio                               Location: San Antonio, TX                         \n",
            "ID: share-a-bull-bikes                       Location: University of South Florida, FL         \n",
            "ID: sobi-long-beach                          Location: Long Beach, NY                          \n",
            "ID: spartanburg                              Location: Spartanburg, SC                         \n",
            "ID: topeka-metro-bikes                       Location: Topeka, KS                              \n",
            "ID: ubike                                    Location: University of Virginia, VA              \n",
            "ID: relay-atlanta                            Location: Atlanta, GA                             \n",
            "ID: decobike-miami-beach                     Location: Miami Beach, FL                         \n",
            "ID: decobike-san-diego                       Location: San Diego, CA                           \n",
            "ID: desmoines                                Location: Des Moines, IA                          \n",
            "ID: greenville                               Location: Greenville, SC                          \n",
            "ID: healthy-ride-pittsburgh-pittsburgh       Location: Pittsburgh                              \n",
            "ID: bay-wheels                               Location: San Francisco Bay Area, CA              \n",
            "ID: rtc-bike-share                           Location: Las Vegas, NV                           \n",
            "ID: spokies                                  Location: Oklahoma, OK                            \n",
            "\n",
            "Total cities in the US with bike share programs: 52\n"
          ]
        }
      ]
    },
    {
      "cell_type": "markdown",
      "metadata": {
        "id": "23oXCLzyeZ40"
      },
      "source": [
        "# Question 2\n",
        "\n",
        "Construct a `DataFrame` containing data about all bike stations in all networks in the United States. Save this `DataFrame` to disk using `.to_csv()`. (You will need it in Part B of this lab.)\n",
        "\n",
        "Use this `DataFrame` to determine the total number of bicycles in bike share programs across the United States? You may assume that the number of bikes at a station is the number of empty spaces, plus the number of available bikes."
      ]
    },
    {
      "cell_type": "code",
      "source": [
        "stations = []\n",
        "\n",
        "for pair in us_network_pairs:\n",
        "    url = \"http://api.citybik.es/v2/networks/\" + pair[0]\n",
        "    data = requests.get(url).json()\n",
        "\n",
        "    for station in data[\"network\"][\"stations\"]:           \n",
        "        stations.append({\"city\": pair[1],\n",
        "                        \"network\": pair[0],\n",
        "                        \"name\": station[\"name\"],\n",
        "                        \"free_bikes\": station[\"free_bikes\"],\n",
        "                        \"empty_slots\": station[\"empty_slots\"],\n",
        "                        \"timestamp\": station[\"timestamp\"],\n",
        "                        \"longitude\": station[\"longitude\"],\n",
        "                        \"latitude\": station[\"latitude\"],\n",
        "                        \"id\": station[\"id\"]})\n",
        "\n",
        "stations_df = pd.DataFrame(stations)\n",
        "stations_df[\"total_bikes\"] = stations_df[\"free_bikes\"] + stations_df[\"empty_slots\"]\n",
        "total_bikes = stations_df[\"total_bikes\"].sum()\n",
        "stations_df.to_csv(\"bike_stations.csv\", index = False)\n",
        "print(f\"total bikes - {total_bikes}\")"
      ],
      "metadata": {
        "id": "IoQhTcKR8qXH",
        "colab": {
          "base_uri": "https://localhost:8080/"
        },
        "outputId": "9eb7f857-9095-42ca-86cf-8c58d9d2a20a"
      },
      "execution_count": 9,
      "outputs": [
        {
          "output_type": "stream",
          "name": "stdout",
          "text": [
            "total bikes - 145814\n"
          ]
        }
      ]
    },
    {
      "cell_type": "markdown",
      "metadata": {
        "id": "mPJ5B3qceZ45"
      },
      "source": [
        "# Question 3\n",
        "\n",
        "You have just finished touring Coit Tower in San Francisco, which is located at latitude 37.802747 and longitude -122.405861. Using your `DataFrame` from Question 2, find the nearest bike station with an available bike, based on taxicab distance (a.k.a. Manhattan distance).\n",
        "\n",
        "_Hint:_ You can check your answer using Google Maps!"
      ]
    },
    {
      "cell_type": "code",
      "source": [
        "available = stations_df[stations_df[\"free_bikes\"] > 0]\n",
        "distances = [abs(37.802747 - available[\"latitude\"]) + abs((-122.405861 - available[\"longitude\"]))]\n",
        "print(distances[0].sort_values())\n",
        "stations_df.loc[7651]"
      ],
      "metadata": {
        "colab": {
          "base_uri": "https://localhost:8080/"
        },
        "id": "rS7qu_grlLsz",
        "outputId": "3dea35ce-baa0-4540-b32e-ac917ea5ed35"
      },
      "execution_count": 10,
      "outputs": [
        {
          "output_type": "stream",
          "name": "stdout",
          "text": [
            "7635     0.004650\n",
            "7885     0.004823\n",
            "8015     0.004837\n",
            "7871     0.005675\n",
            "7851     0.007277\n",
            "          ...    \n",
            "5901    56.226871\n",
            "5888    56.230268\n",
            "5813    56.230455\n",
            "5815    56.231958\n",
            "5866    56.235152\n",
            "Length: 5733, dtype: float64\n"
          ]
        },
        {
          "output_type": "execute_result",
          "data": {
            "text/plain": [
              "city                 San Francisco Bay Area, CA\n",
              "network                              bay-wheels\n",
              "name                       Horton St at 40th St\n",
              "free_bikes                                   12\n",
              "empty_slots                                  11\n",
              "timestamp           2023-03-09T05:46:21.950000Z\n",
              "longitude                            -122.28761\n",
              "latitude                              37.829705\n",
              "id             5a3ef6c03f1ce19c588c078270170a18\n",
              "total_bikes                                  23\n",
              "Name: 7651, dtype: object"
            ]
          },
          "metadata": {},
          "execution_count": 10
        }
      ]
    },
    {
      "cell_type": "markdown",
      "metadata": {
        "id": "IKBO_9EyYK0v"
      },
      "source": [
        "## Submission Instructions\n",
        "\n",
        "- Copy this notebook to your own Drive, if you have not already.\n",
        "- Restart this notebook and run the cells from beginning to end. \n",
        "  - Go to Runtime > Restart and Run All.\n",
        "- Rename this notebook by clicking on \"DATA 301 Lab 6A - YOUR NAMES HERE\" at the very top of this page. Replace \"YOUR NAMES HERE\" with the first and last names of you (and your partners, for Phase 2).\n",
        "- Get the link to your notebook:\n",
        "  - Click on \"Share\" at the top-right. \n",
        "  - Change the settings to \"Anyone with the link can view\". \n",
        "  - Copy the sharing link into Canvas."
      ]
    }
  ]
}